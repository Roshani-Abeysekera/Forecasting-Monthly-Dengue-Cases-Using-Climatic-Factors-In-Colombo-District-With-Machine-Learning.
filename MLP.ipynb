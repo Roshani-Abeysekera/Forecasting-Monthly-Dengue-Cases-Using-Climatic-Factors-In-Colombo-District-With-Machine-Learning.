{
  "nbformat": 4,
  "nbformat_minor": 0,
  "metadata": {
    "colab": {
      "name": "MLP.ipynb",
      "provenance": [],
      "collapsed_sections": [],
      "authorship_tag": "ABX9TyMB3wM5vKOatWCEdL1XhIAw",
      "include_colab_link": true
    },
    "kernelspec": {
      "name": "python3",
      "display_name": "Python 3"
    },
    "language_info": {
      "name": "python"
    }
  },
  "cells": [
    {
      "cell_type": "markdown",
      "metadata": {
        "id": "view-in-github",
        "colab_type": "text"
      },
      "source": [
        "<a href=\"https://colab.research.google.com/github/Roshani-Abeysekera/Forecasting-Monthly-Dengue-Cases-Using-Climatic-Factors-In-Colombo-District-With-Machine-Learning./blob/main/MLP.ipynb\" target=\"_parent\"><img src=\"https://colab.research.google.com/assets/colab-badge.svg\" alt=\"Open In Colab\"/></a>"
      ]
    },
    {
      "cell_type": "code",
      "metadata": {
        "id": "xCTr6IUwpfCZ"
      },
      "source": [
        "# Import required libraries\n",
        "import pandas as pd\n",
        "import numpy as np \n",
        "import matplotlib.pyplot as plt\n",
        "import sklearn\n",
        "from sklearn.neural_network import MLPRegressor\n",
        "from sklearn.model_selection import train_test_split\n",
        "from sklearn.preprocessing import StandardScaler\n",
        "from sklearn.metrics import mean_squared_error\n",
        "from math import sqrt"
      ],
      "execution_count": 31,
      "outputs": []
    },
    {
      "cell_type": "code",
      "metadata": {
        "colab": {
          "base_uri": "https://localhost:8080/",
          "height": 213
        },
        "id": "JrajMfrSqvuM",
        "outputId": "703a20ae-ead8-4196-bcdc-acd4c273dafb"
      },
      "source": [
        "# Load the dataset\n",
        "df = pd.read_csv('dengue.csv')\n",
        "print(df.shape)\n",
        "df.head()"
      ],
      "execution_count": 32,
      "outputs": [
        {
          "output_type": "stream",
          "text": [
            "(48, 6)\n"
          ],
          "name": "stdout"
        },
        {
          "output_type": "execute_result",
          "data": {
            "text/html": [
              "<div>\n",
              "<style scoped>\n",
              "    .dataframe tbody tr th:only-of-type {\n",
              "        vertical-align: middle;\n",
              "    }\n",
              "\n",
              "    .dataframe tbody tr th {\n",
              "        vertical-align: top;\n",
              "    }\n",
              "\n",
              "    .dataframe thead th {\n",
              "        text-align: right;\n",
              "    }\n",
              "</style>\n",
              "<table border=\"1\" class=\"dataframe\">\n",
              "  <thead>\n",
              "    <tr style=\"text-align: right;\">\n",
              "      <th></th>\n",
              "      <th>Year</th>\n",
              "      <th>Month</th>\n",
              "      <th>Temp 0C</th>\n",
              "      <th>Rainfall (mm)</th>\n",
              "      <th>Humidity (%)</th>\n",
              "      <th>Dengue Victims</th>\n",
              "    </tr>\n",
              "  </thead>\n",
              "  <tbody>\n",
              "    <tr>\n",
              "      <th>0</th>\n",
              "      <td>2016</td>\n",
              "      <td>1</td>\n",
              "      <td>27</td>\n",
              "      <td>33.74</td>\n",
              "      <td>74</td>\n",
              "      <td>2184</td>\n",
              "    </tr>\n",
              "    <tr>\n",
              "      <th>1</th>\n",
              "      <td>2016</td>\n",
              "      <td>2</td>\n",
              "      <td>28</td>\n",
              "      <td>33.92</td>\n",
              "      <td>73</td>\n",
              "      <td>1569</td>\n",
              "    </tr>\n",
              "    <tr>\n",
              "      <th>2</th>\n",
              "      <td>2016</td>\n",
              "      <td>3</td>\n",
              "      <td>28</td>\n",
              "      <td>41.27</td>\n",
              "      <td>74</td>\n",
              "      <td>1016</td>\n",
              "    </tr>\n",
              "    <tr>\n",
              "      <th>3</th>\n",
              "      <td>2016</td>\n",
              "      <td>4</td>\n",
              "      <td>29</td>\n",
              "      <td>101.74</td>\n",
              "      <td>77</td>\n",
              "      <td>942</td>\n",
              "    </tr>\n",
              "    <tr>\n",
              "      <th>4</th>\n",
              "      <td>2016</td>\n",
              "      <td>5</td>\n",
              "      <td>28</td>\n",
              "      <td>655.50</td>\n",
              "      <td>83</td>\n",
              "      <td>693</td>\n",
              "    </tr>\n",
              "  </tbody>\n",
              "</table>\n",
              "</div>"
            ],
            "text/plain": [
              "   Year  Month   Temp 0C  Rainfall (mm)  Humidity (%)  Dengue Victims\n",
              "0  2016      1        27          33.74            74            2184\n",
              "1  2016      2        28          33.92            73            1569\n",
              "2  2016      3        28          41.27            74            1016\n",
              "3  2016      4        29         101.74            77             942\n",
              "4  2016      5        28         655.50            83             693"
            ]
          },
          "metadata": {
            "tags": []
          },
          "execution_count": 32
        }
      ]
    },
    {
      "cell_type": "code",
      "metadata": {
        "colab": {
          "base_uri": "https://localhost:8080/",
          "height": 265
        },
        "id": "R0xj-ohY1Z25",
        "outputId": "b3e1ce0b-f36f-45af-edc6-b096fe3dffc3"
      },
      "source": [
        "# Plot the variables\n",
        "from matplotlib import pyplot\n",
        "df[[' Temp 0C', 'Rainfall (mm)', 'Humidity (%)', 'Dengue Victims']].plot()\n",
        "pyplot.show()"
      ],
      "execution_count": 33,
      "outputs": [
        {
          "output_type": "display_data",
          "data": {
            "image/png": "[encoded data removed]",
            "text/plain": [
              "<Figure size 432x288 with 1 Axes>"
            ]
          },
          "metadata": {
            "tags": [],
            "needs_background": "light"
          }
        }
      ]
    },
    {
      "cell_type": "code",
      "metadata": {
        "colab": {
          "base_uri": "https://localhost:8080/",
          "height": 166
        },
        "id": "eE3sIqhzwCXc",
        "outputId": "6b514e6f-9ba1-4730-c805-48ad3c8f194a"
      },
      "source": [
        "df[[' Temp 0C', 'Rainfall (mm)', 'Humidity (%)', 'Dengue Victims']].describe().transpose()"
      ],
      "execution_count": 34,
      "outputs": [
        {
          "output_type": "execute_result",
          "data": {
            "text/html": [
              "<div>\n",
              "<style scoped>\n",
              "    .dataframe tbody tr th:only-of-type {\n",
              "        vertical-align: middle;\n",
              "    }\n",
              "\n",
              "    .dataframe tbody tr th {\n",
              "        vertical-align: top;\n",
              "    }\n",
              "\n",
              "    .dataframe thead th {\n",
              "        text-align: right;\n",
              "    }\n",
              "</style>\n",
              "<table border=\"1\" class=\"dataframe\">\n",
              "  <thead>\n",
              "    <tr style=\"text-align: right;\">\n",
              "      <th></th>\n",
              "      <th>count</th>\n",
              "      <th>mean</th>\n",
              "      <th>std</th>\n",
              "      <th>min</th>\n",
              "      <th>25%</th>\n",
              "      <th>50%</th>\n",
              "      <th>75%</th>\n",
              "      <th>max</th>\n",
              "    </tr>\n",
              "  </thead>\n",
              "  <tbody>\n",
              "    <tr>\n",
              "      <th>Temp 0C</th>\n",
              "      <td>48.0</td>\n",
              "      <td>27.375000</td>\n",
              "      <td>0.959277</td>\n",
              "      <td>26.00</td>\n",
              "      <td>27.000</td>\n",
              "      <td>27.000</td>\n",
              "      <td>28.000</td>\n",
              "      <td>30.0</td>\n",
              "    </tr>\n",
              "    <tr>\n",
              "      <th>Rainfall (mm)</th>\n",
              "      <td>48.0</td>\n",
              "      <td>269.475625</td>\n",
              "      <td>234.719722</td>\n",
              "      <td>15.36</td>\n",
              "      <td>95.705</td>\n",
              "      <td>197.795</td>\n",
              "      <td>358.275</td>\n",
              "      <td>954.0</td>\n",
              "    </tr>\n",
              "    <tr>\n",
              "      <th>Humidity (%)</th>\n",
              "      <td>48.0</td>\n",
              "      <td>80.604167</td>\n",
              "      <td>3.818987</td>\n",
              "      <td>72.00</td>\n",
              "      <td>78.750</td>\n",
              "      <td>81.000</td>\n",
              "      <td>84.000</td>\n",
              "      <td>86.0</td>\n",
              "    </tr>\n",
              "    <tr>\n",
              "      <th>Dengue Victims</th>\n",
              "      <td>48.0</td>\n",
              "      <td>1708.687500</td>\n",
              "      <td>1384.485543</td>\n",
              "      <td>372.00</td>\n",
              "      <td>821.000</td>\n",
              "      <td>1271.500</td>\n",
              "      <td>2232.250</td>\n",
              "      <td>7471.0</td>\n",
              "    </tr>\n",
              "  </tbody>\n",
              "</table>\n",
              "</div>"
            ],
            "text/plain": [
              "                count         mean          std  ...       50%       75%     max\n",
              " Temp 0C         48.0    27.375000     0.959277  ...    27.000    28.000    30.0\n",
              "Rainfall (mm)    48.0   269.475625   234.719722  ...   197.795   358.275   954.0\n",
              "Humidity (%)     48.0    80.604167     3.818987  ...    81.000    84.000    86.0\n",
              "Dengue Victims   48.0  1708.687500  1384.485543  ...  1271.500  2232.250  7471.0\n",
              "\n",
              "[4 rows x 8 columns]"
            ]
          },
          "metadata": {
            "tags": []
          },
          "execution_count": 34
        }
      ]
    },
    {
      "cell_type": "code",
      "metadata": {
        "colab": {
          "base_uri": "https://localhost:8080/",
          "height": 356
        },
        "id": "Xk0uhbZwwGFO",
        "outputId": "cca55c29-4b08-43fb-c167-c1ccdeac35e1"
      },
      "source": [
        "#Plotting the correlation between variables\n",
        "import seaborn as sns\n",
        "import matplotlib as plt\n",
        "corr = df[[' Temp 0C', 'Rainfall (mm)', 'Humidity (%)', 'Dengue Victims']].corr()\n",
        "sns.heatmap(corr, \n",
        "            xticklabels=corr.columns.values,\n",
        "            yticklabels=corr.columns.values)"
      ],
      "execution_count": 35,
      "outputs": [
        {
          "output_type": "execute_result",
          "data": {
            "text/plain": [
              "<matplotlib.axes._subplots.AxesSubplot at 0x7fc718339990>"
            ]
          },
          "metadata": {
            "tags": []
          },
          "execution_count": 35
        },
        {
          "output_type": "display_data",
          "data": {
            "image/png": "[encoded data removed]",
            "text/plain": [
              "<Figure size 432x288 with 2 Axes>"
            ]
          },
          "metadata": {
            "tags": [],
            "needs_background": "light"
          }
        }
      ]
    },
    {
      "cell_type": "code",
      "metadata": {
        "colab": {
          "base_uri": "https://localhost:8080/",
          "height": 166
        },
        "id": "gZedeCh5rLAr",
        "outputId": "ef9fe884-638d-464e-9a76-c12815926591"
      },
      "source": [
        "# Creating Arrays for the Features and the Response Variable\n",
        "target_column = ['Dengue Victims'] \n",
        "predictors = list(set(list(df.columns))-set(target_column))\n",
        "df[predictors] = df[predictors]/df[predictors].max()\n",
        "df[[' Temp 0C', 'Rainfall (mm)', 'Humidity (%)', 'Dengue Victims']].describe().transpose()"
      ],
      "execution_count": 36,
      "outputs": [
        {
          "output_type": "execute_result",
          "data": {
            "text/html": [
              "<div>\n",
              "<style scoped>\n",
              "    .dataframe tbody tr th:only-of-type {\n",
              "        vertical-align: middle;\n",
              "    }\n",
              "\n",
              "    .dataframe tbody tr th {\n",
              "        vertical-align: top;\n",
              "    }\n",
              "\n",
              "    .dataframe thead th {\n",
              "        text-align: right;\n",
              "    }\n",
              "</style>\n",
              "<table border=\"1\" class=\"dataframe\">\n",
              "  <thead>\n",
              "    <tr style=\"text-align: right;\">\n",
              "      <th></th>\n",
              "      <th>count</th>\n",
              "      <th>mean</th>\n",
              "      <th>std</th>\n",
              "      <th>min</th>\n",
              "      <th>25%</th>\n",
              "      <th>50%</th>\n",
              "      <th>75%</th>\n",
              "      <th>max</th>\n",
              "    </tr>\n",
              "  </thead>\n",
              "  <tbody>\n",
              "    <tr>\n",
              "      <th>Temp 0C</th>\n",
              "      <td>48.0</td>\n",
              "      <td>0.912500</td>\n",
              "      <td>0.031976</td>\n",
              "      <td>0.866667</td>\n",
              "      <td>0.900000</td>\n",
              "      <td>0.900000</td>\n",
              "      <td>0.933333</td>\n",
              "      <td>1.0</td>\n",
              "    </tr>\n",
              "    <tr>\n",
              "      <th>Rainfall (mm)</th>\n",
              "      <td>48.0</td>\n",
              "      <td>0.282469</td>\n",
              "      <td>0.246037</td>\n",
              "      <td>0.016101</td>\n",
              "      <td>0.100320</td>\n",
              "      <td>0.207332</td>\n",
              "      <td>0.375550</td>\n",
              "      <td>1.0</td>\n",
              "    </tr>\n",
              "    <tr>\n",
              "      <th>Humidity (%)</th>\n",
              "      <td>48.0</td>\n",
              "      <td>0.937258</td>\n",
              "      <td>0.044407</td>\n",
              "      <td>0.837209</td>\n",
              "      <td>0.915698</td>\n",
              "      <td>0.941860</td>\n",
              "      <td>0.976744</td>\n",
              "      <td>1.0</td>\n",
              "    </tr>\n",
              "    <tr>\n",
              "      <th>Dengue Victims</th>\n",
              "      <td>48.0</td>\n",
              "      <td>1708.687500</td>\n",
              "      <td>1384.485543</td>\n",
              "      <td>372.000000</td>\n",
              "      <td>821.000000</td>\n",
              "      <td>1271.500000</td>\n",
              "      <td>2232.250000</td>\n",
              "      <td>7471.0</td>\n",
              "    </tr>\n",
              "  </tbody>\n",
              "</table>\n",
              "</div>"
            ],
            "text/plain": [
              "                count         mean  ...          75%     max\n",
              " Temp 0C         48.0     0.912500  ...     0.933333     1.0\n",
              "Rainfall (mm)    48.0     0.282469  ...     0.375550     1.0\n",
              "Humidity (%)     48.0     0.937258  ...     0.976744     1.0\n",
              "Dengue Victims   48.0  1708.687500  ...  2232.250000  7471.0\n",
              "\n",
              "[4 rows x 8 columns]"
            ]
          },
          "metadata": {
            "tags": []
          },
          "execution_count": 36
        }
      ]
    },
    {
      "cell_type": "code",
      "metadata": {
        "colab": {
          "base_uri": "https://localhost:8080/"
        },
        "id": "IUY8wwEOrUKG",
        "outputId": "7157315e-7330-48d6-e90d-4903f4436ffb"
      },
      "source": [
        "# Creating the Training and Test Datasets\n",
        "X = df[predictors].values\n",
        "y = df[target_column].values\n",
        "\n",
        "X_train, X_test, y_train, y_test = train_test_split(X, y, test_size=0.30, random_state=40)\n",
        "print(X_train.shape); print(X_test.shape)"
      ],
      "execution_count": 37,
      "outputs": [
        {
          "output_type": "stream",
          "text": [
            "(33, 5)\n",
            "(15, 5)\n"
          ],
          "name": "stdout"
        }
      ]
    },
    {
      "cell_type": "code",
      "metadata": {
        "id": "TD8HrqEYrhLH"
      },
      "source": [
        "# Scale the data\n",
        "sc_X = StandardScaler()\n",
        "X_trainscaled=sc_X.fit_transform(X_train)\n",
        "X_testscaled=sc_X.transform(X_test)"
      ],
      "execution_count": 38,
      "outputs": []
    },
    {
      "cell_type": "code",
      "metadata": {
        "colab": {
          "base_uri": "https://localhost:8080/"
        },
        "id": "Z4-k6Yejrlq2",
        "outputId": "21178958-8d25-48cd-8dca-18707b0d9641"
      },
      "source": [
        "# Instantiates the model with the hidden_layer_sizes\n",
        "reg = MLPRegressor(hidden_layer_sizes=(64,64,64),activation=\"relu\" ,random_state=1, max_iter=15000).fit(X_trainscaled, y_train)\n"
      ],
      "execution_count": 39,
      "outputs": [
        {
          "output_type": "stream",
          "text": [
            "/usr/local/lib/python3.7/dist-packages/sklearn/neural_network/_multilayer_perceptron.py:1342: DataConversionWarning: A column-vector y was passed when a 1d array was expected. Please change the shape of y to (n_samples, ), for example using ravel().\n",
            "  y = column_or_1d(y, warn=True)\n"
          ],
          "name": "stderr"
        }
      ]
    },
    {
      "cell_type": "code",
      "metadata": {
        "colab": {
          "base_uri": "https://localhost:8080/"
        },
        "id": "B7zYtcXbrl00",
        "outputId": "93ba58f2-7e9d-4fad-8582-3b8d460cf57f"
      },
      "source": [
        "# Predict the target values of the reserved test dataset\n",
        "y_pred=reg.predict(X_testscaled)\n",
        "pred=reg.predict(X_trainscaled)\n",
        "testScore = np.sqrt(mean_squared_error(y_pred, y_test))\n",
        "trainScore = np.sqrt(mean_squared_error(pred, y_train))\n",
        "print('Train Score: %.2f RMSE' % (trainScore))\n",
        "print('Test Score: %.2f RMSE' % (testScore))"
      ],
      "execution_count": 40,
      "outputs": [
        {
          "output_type": "stream",
          "text": [
            "Train Score: 0.11 RMSE\n",
            "Test Score: 1276.32 RMSE\n"
          ],
          "name": "stdout"
        }
      ]
    }
  ]
}