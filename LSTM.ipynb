{
  "nbformat": 4,
  "nbformat_minor": 0,
  "metadata": {
    "colab": {
      "name": "LSTM.ipynb",
      "provenance": [],
      "collapsed_sections": [],
      "authorship_tag": "ABX9TyMKH32bZYDuLiMPgFlVsbTo",
      "include_colab_link": true
    },
    "kernelspec": {
      "name": "python3",
      "display_name": "Python 3"
    }
  },
  "cells": [
    {
      "cell_type": "markdown",
      "metadata": {
        "id": "view-in-github",
        "colab_type": "text"
      },
      "source": [
        "<a href=\"https://colab.research.google.com/github/Roshani-Abeysekera/Forecasting-Monthly-Dengue-Cases-Using-Climatic-Factors-In-Colombo-District-With-Machine-Learning./blob/main/LSTM.ipynb\" target=\"_parent\"><img src=\"https://colab.research.google.com/assets/colab-badge.svg\" alt=\"Open In Colab\"/></a>"
      ]
    },
    {
      "cell_type": "code",
      "metadata": {
        "id": "nEPMhfJBNaQ7"
      },
      "source": [
        "import tensorflow \n",
        "from glob import glob\n",
        "import gc\n",
        "import numpy\n",
        "import matplotlib.pyplot as plt\n",
        "from pandas import read_csv\n",
        "import math\n",
        "from keras.models import Sequential\n",
        "from keras.layers import Dense\n",
        "from keras.layers import LSTM\n",
        "from sklearn.preprocessing import MinMaxScaler\n",
        "from sklearn.metrics import mean_squared_error"
      ],
      "execution_count": null,
      "outputs": []
    },
    {
      "cell_type": "code",
      "metadata": {
        "id": "IgMjcU_lNtQQ"
      },
      "source": [
        "# convert an array of values into a dataset matrix\n",
        "def create_dataset(dataset, look_back=1):\n",
        "\tdataX, dataY = [], []\n",
        "\tfor i in range(len(dataset)-look_back-1):\n",
        "\t\ta = dataset[i:(i+look_back), 0]\n",
        "\t\tdataX.append(a)\n",
        "\t\tdataY.append(dataset[i + look_back, 0])\n",
        "\treturn numpy.array(dataX), numpy.array(dataY)"
      ],
      "execution_count": null,
      "outputs": []
    },
    {
      "cell_type": "code",
      "metadata": {
        "id": "okPRZLroN6UL"
      },
      "source": [
        "# fix random seed for reproducibility\n",
        "numpy.random.seed(7)"
      ],
      "execution_count": null,
      "outputs": []
    },
    {
      "cell_type": "code",
      "metadata": {
        "id": "ZkM1Do2-N7RQ"
      },
      "source": [
        "# load the dataset\n",
        "dataframe = read_csv('dengue.csv', usecols=[1], engine='python')\n",
        "dataset = dataframe.values\n",
        "dataset = dataset.astype('float32')"
      ],
      "execution_count": null,
      "outputs": []
    },
    {
      "cell_type": "code",
      "metadata": {
        "id": "X75r8aA9OCa4"
      },
      "source": [
        "# normalize the dataset\n",
        "scaler = MinMaxScaler(feature_range=(0, 1))\n",
        "dataset = scaler.fit_transform(dataset)"
      ],
      "execution_count": null,
      "outputs": []
    },
    {
      "cell_type": "code",
      "metadata": {
        "id": "95-PtMfEOGny"
      },
      "source": [
        "# split into train and test sets\n",
        "train_size = int(len(dataset) * 0.70)\n",
        "test_size = len(dataset) - train_size\n",
        "train, test = dataset[0:train_size,:], dataset[train_size:len(dataset),:]"
      ],
      "execution_count": null,
      "outputs": []
    },
    {
      "cell_type": "code",
      "metadata": {
        "id": "ftG2PQk6OKWy"
      },
      "source": [
        "# reshape into X=t and Y=t+1\n",
        "look_back = 1\n",
        "trainX, trainY = create_dataset(train, look_back)\n",
        "testX, testY = create_dataset(test, look_back)"
      ],
      "execution_count": null,
      "outputs": []
    },
    {
      "cell_type": "code",
      "metadata": {
        "id": "qS5sbzbQOQr0"
      },
      "source": [
        "# reshape input to be [samples, time steps, features]\n",
        "trainX = numpy.reshape(trainX, (trainX.shape[0], 1, trainX.shape[1]))\n",
        "testX = numpy.reshape(testX, (testX.shape[0], 1, testX.shape[1]))"
      ],
      "execution_count": null,
      "outputs": []
    },
    {
      "cell_type": "code",
      "metadata": {
        "colab": {
          "base_uri": "https://localhost:8080/"
        },
        "id": "UeEOU1lIOR9E",
        "outputId": "5f2e79f0-12a5-4bae-9c8c-770cc51b88b2"
      },
      "source": [
        "# create and fit the LSTM network\n",
        "model = Sequential()\n",
        "model.add(LSTM(4, input_shape=(1, look_back)))\n",
        "model.add(Dense(1))\n",
        "model.compile(loss='mean_squared_error', optimizer='adam')\n",
        "model.fit(trainX, trainY, epochs=100, batch_size=1, verbose=2)"
      ],
      "execution_count": null,
      "outputs": [
        {
          "output_type": "stream",
          "text": [
            "Epoch 1/100\n",
            "31/31 - 2s - loss: 0.2298\n",
            "Epoch 2/100\n",
            "31/31 - 0s - loss: 0.1941\n",
            "Epoch 3/100\n",
            "31/31 - 0s - loss: 0.1632\n",
            "Epoch 4/100\n",
            "31/31 - 0s - loss: 0.1379\n",
            "Epoch 5/100\n",
            "31/31 - 0s - loss: 0.1147\n",
            "Epoch 6/100\n",
            "31/31 - 0s - loss: 0.0983\n",
            "Epoch 7/100\n",
            "31/31 - 0s - loss: 0.0857\n",
            "Epoch 8/100\n",
            "31/31 - 0s - loss: 0.0763\n",
            "Epoch 9/100\n",
            "31/31 - 0s - loss: 0.0718\n",
            "Epoch 10/100\n",
            "31/31 - 0s - loss: 0.0664\n",
            "Epoch 11/100\n",
            "31/31 - 0s - loss: 0.0643\n",
            "Epoch 12/100\n",
            "31/31 - 0s - loss: 0.0631\n",
            "Epoch 13/100\n",
            "31/31 - 0s - loss: 0.0620\n",
            "Epoch 14/100\n",
            "31/31 - 0s - loss: 0.0611\n",
            "Epoch 15/100\n",
            "31/31 - 0s - loss: 0.0610\n",
            "Epoch 16/100\n",
            "31/31 - 0s - loss: 0.0605\n",
            "Epoch 17/100\n",
            "31/31 - 0s - loss: 0.0602\n",
            "Epoch 18/100\n",
            "31/31 - 0s - loss: 0.0599\n",
            "Epoch 19/100\n",
            "31/31 - 0s - loss: 0.0599\n",
            "Epoch 20/100\n",
            "31/31 - 0s - loss: 0.0602\n",
            "Epoch 21/100\n",
            "31/31 - 0s - loss: 0.0596\n",
            "Epoch 22/100\n",
            "31/31 - 0s - loss: 0.0593\n",
            "Epoch 23/100\n",
            "31/31 - 0s - loss: 0.0593\n",
            "Epoch 24/100\n",
            "31/31 - 0s - loss: 0.0593\n",
            "Epoch 25/100\n",
            "31/31 - 0s - loss: 0.0590\n",
            "Epoch 26/100\n",
            "31/31 - 0s - loss: 0.0586\n",
            "Epoch 27/100\n",
            "31/31 - 0s - loss: 0.0584\n",
            "Epoch 28/100\n",
            "31/31 - 0s - loss: 0.0584\n",
            "Epoch 29/100\n",
            "31/31 - 0s - loss: 0.0586\n",
            "Epoch 30/100\n",
            "31/31 - 0s - loss: 0.0580\n",
            "Epoch 31/100\n",
            "31/31 - 0s - loss: 0.0581\n",
            "Epoch 32/100\n",
            "31/31 - 0s - loss: 0.0578\n",
            "Epoch 33/100\n",
            "31/31 - 0s - loss: 0.0577\n",
            "Epoch 34/100\n",
            "31/31 - 0s - loss: 0.0575\n",
            "Epoch 35/100\n",
            "31/31 - 0s - loss: 0.0577\n",
            "Epoch 36/100\n",
            "31/31 - 0s - loss: 0.0579\n",
            "Epoch 37/100\n",
            "31/31 - 0s - loss: 0.0569\n",
            "Epoch 38/100\n",
            "31/31 - 0s - loss: 0.0571\n",
            "Epoch 39/100\n",
            "31/31 - 0s - loss: 0.0578\n",
            "Epoch 40/100\n",
            "31/31 - 0s - loss: 0.0569\n",
            "Epoch 41/100\n",
            "31/31 - 0s - loss: 0.0568\n",
            "Epoch 42/100\n",
            "31/31 - 0s - loss: 0.0573\n",
            "Epoch 43/100\n",
            "31/31 - 0s - loss: 0.0564\n",
            "Epoch 44/100\n",
            "31/31 - 0s - loss: 0.0564\n",
            "Epoch 45/100\n",
            "31/31 - 0s - loss: 0.0564\n",
            "Epoch 46/100\n",
            "31/31 - 0s - loss: 0.0560\n",
            "Epoch 47/100\n",
            "31/31 - 0s - loss: 0.0563\n",
            "Epoch 48/100\n",
            "31/31 - 0s - loss: 0.0561\n",
            "Epoch 49/100\n",
            "31/31 - 0s - loss: 0.0566\n",
            "Epoch 50/100\n",
            "31/31 - 0s - loss: 0.0557\n",
            "Epoch 51/100\n",
            "31/31 - 0s - loss: 0.0556\n",
            "Epoch 52/100\n",
            "31/31 - 0s - loss: 0.0557\n",
            "Epoch 53/100\n",
            "31/31 - 0s - loss: 0.0557\n",
            "Epoch 54/100\n",
            "31/31 - 0s - loss: 0.0553\n",
            "Epoch 55/100\n",
            "31/31 - 0s - loss: 0.0554\n",
            "Epoch 56/100\n",
            "31/31 - 0s - loss: 0.0558\n",
            "Epoch 57/100\n",
            "31/31 - 0s - loss: 0.0555\n",
            "Epoch 58/100\n",
            "31/31 - 0s - loss: 0.0553\n",
            "Epoch 59/100\n",
            "31/31 - 0s - loss: 0.0555\n",
            "Epoch 60/100\n",
            "31/31 - 0s - loss: 0.0561\n",
            "Epoch 61/100\n",
            "31/31 - 0s - loss: 0.0549\n",
            "Epoch 62/100\n",
            "31/31 - 0s - loss: 0.0550\n",
            "Epoch 63/100\n",
            "31/31 - 0s - loss: 0.0551\n",
            "Epoch 64/100\n",
            "31/31 - 0s - loss: 0.0547\n",
            "Epoch 65/100\n",
            "31/31 - 0s - loss: 0.0547\n",
            "Epoch 66/100\n",
            "31/31 - 0s - loss: 0.0551\n",
            "Epoch 67/100\n",
            "31/31 - 0s - loss: 0.0551\n",
            "Epoch 68/100\n",
            "31/31 - 0s - loss: 0.0552\n",
            "Epoch 69/100\n",
            "31/31 - 0s - loss: 0.0548\n",
            "Epoch 70/100\n",
            "31/31 - 0s - loss: 0.0548\n",
            "Epoch 71/100\n",
            "31/31 - 0s - loss: 0.0544\n",
            "Epoch 72/100\n",
            "31/31 - 0s - loss: 0.0548\n",
            "Epoch 73/100\n",
            "31/31 - 0s - loss: 0.0548\n",
            "Epoch 74/100\n",
            "31/31 - 0s - loss: 0.0543\n",
            "Epoch 75/100\n",
            "31/31 - 0s - loss: 0.0543\n",
            "Epoch 76/100\n",
            "31/31 - 0s - loss: 0.0545\n",
            "Epoch 77/100\n",
            "31/31 - 0s - loss: 0.0543\n",
            "Epoch 78/100\n",
            "31/31 - 0s - loss: 0.0544\n",
            "Epoch 79/100\n",
            "31/31 - 0s - loss: 0.0541\n",
            "Epoch 80/100\n",
            "31/31 - 0s - loss: 0.0540\n",
            "Epoch 81/100\n",
            "31/31 - 0s - loss: 0.0541\n",
            "Epoch 82/100\n",
            "31/31 - 0s - loss: 0.0539\n",
            "Epoch 83/100\n",
            "31/31 - 0s - loss: 0.0543\n",
            "Epoch 84/100\n",
            "31/31 - 0s - loss: 0.0538\n",
            "Epoch 85/100\n",
            "31/31 - 0s - loss: 0.0539\n",
            "Epoch 86/100\n",
            "31/31 - 0s - loss: 0.0542\n",
            "Epoch 87/100\n",
            "31/31 - 0s - loss: 0.0537\n",
            "Epoch 88/100\n",
            "31/31 - 0s - loss: 0.0541\n",
            "Epoch 89/100\n",
            "31/31 - 0s - loss: 0.0538\n",
            "Epoch 90/100\n",
            "31/31 - 0s - loss: 0.0538\n",
            "Epoch 91/100\n",
            "31/31 - 0s - loss: 0.0536\n",
            "Epoch 92/100\n",
            "31/31 - 0s - loss: 0.0537\n",
            "Epoch 93/100\n",
            "31/31 - 0s - loss: 0.0537\n",
            "Epoch 94/100\n",
            "31/31 - 0s - loss: 0.0536\n",
            "Epoch 95/100\n",
            "31/31 - 0s - loss: 0.0537\n",
            "Epoch 96/100\n",
            "31/31 - 0s - loss: 0.0537\n",
            "Epoch 97/100\n",
            "31/31 - 0s - loss: 0.0541\n",
            "Epoch 98/100\n",
            "31/31 - 0s - loss: 0.0538\n",
            "Epoch 99/100\n",
            "31/31 - 0s - loss: 0.0533\n",
            "Epoch 100/100\n",
            "31/31 - 0s - loss: 0.0533\n"
          ],
          "name": "stdout"
        },
        {
          "output_type": "execute_result",
          "data": {
            "text/plain": [
              "<tensorflow.python.keras.callbacks.History at 0x7f08c811a4d0>"
            ]
          },
          "metadata": {
            "tags": []
          },
          "execution_count": 12
        }
      ]
    },
    {
      "cell_type": "code",
      "metadata": {
        "id": "z4LmpwCPOXFr"
      },
      "source": [
        "# make predictions\n",
        "trainPredict = model.predict(trainX)\n",
        "testPredict = model.predict(testX)"
      ],
      "execution_count": null,
      "outputs": []
    },
    {
      "cell_type": "code",
      "metadata": {
        "id": "EW-XsIeYOaHm"
      },
      "source": [
        "# invert predictions\n",
        "trainPredict = scaler.inverse_transform(trainPredict)\n",
        "trainY = scaler.inverse_transform([trainY])\n",
        "testPredict = scaler.inverse_transform(testPredict)\n",
        "testY = scaler.inverse_transform([testY])"
      ],
      "execution_count": null,
      "outputs": []
    },
    {
      "cell_type": "code",
      "metadata": {
        "colab": {
          "base_uri": "https://localhost:8080/"
        },
        "id": "hdRS__b6OdE-",
        "outputId": "97174150-25a9-4fee-a4f4-47395bc4f9a7"
      },
      "source": [
        "# calculate root mean squared error\n",
        "trainScore = math.sqrt(mean_squared_error(trainY[0], trainPredict[:,0]))\n",
        "print('Train Score: %.2f RMSE' % (trainScore))\n",
        "testScore = math.sqrt(mean_squared_error(testY[0], testPredict[:,0]))\n",
        "print('Test Score: %.2f RMSE' % (testScore))"
      ],
      "execution_count": null,
      "outputs": [
        {
          "output_type": "stream",
          "text": [
            "Train Score: 2.53 RMSE\n",
            "Test Score: 2.82 RMSE\n"
          ],
          "name": "stdout"
        }
      ]
    },
    {
      "cell_type": "code",
      "metadata": {
        "id": "evuHXZVtOgwK"
      },
      "source": [
        "# shift train predictions for plotting\n",
        "trainPredictPlot = numpy.empty_like(dataset)\n",
        "trainPredictPlot[:, :] = numpy.nan\n",
        "trainPredictPlot[look_back:len(trainPredict)+look_back, :] = trainPredict"
      ],
      "execution_count": null,
      "outputs": []
    },
    {
      "cell_type": "code",
      "metadata": {
        "id": "57DIZlWiOkKJ"
      },
      "source": [
        "# shift test predictions for plotting\n",
        "testPredictPlot = numpy.empty_like(dataset)\n",
        "testPredictPlot[:, :] = numpy.nan\n",
        "testPredictPlot[len(trainPredict)+(look_back*2)+1:len(dataset)-1, :] = testPredict"
      ],
      "execution_count": null,
      "outputs": []
    },
    {
      "cell_type": "code",
      "metadata": {
        "colab": {
          "base_uri": "https://localhost:8080/",
          "height": 265
        },
        "id": "4O04rO8lOngo",
        "outputId": "72276f22-4c58-4397-bcf2-aae9e2b92d15"
      },
      "source": [
        "# plot baseline and predictions\n",
        "plt.plot(scaler.inverse_transform(dataset))\n",
        "plt.plot(trainPredictPlot)\n",
        "plt.plot(testPredictPlot)\n",
        "plt.show()"
      ],
      "execution_count": null,
      "outputs": [
        {
          "output_type": "display_data",
          "data": {
            "image/png": "[encoded data removed]",
            "text/plain": [
              "<Figure size 432x288 with 1 Axes>"
            ]
          },
          "metadata": {
            "tags": [],
            "needs_background": "light"
          }
        }
      ]
    }
  ]
}